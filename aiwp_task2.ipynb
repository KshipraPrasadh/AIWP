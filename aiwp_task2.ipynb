{
 "cells": [
  {
   "cell_type": "code",
   "execution_count": 25,
   "metadata": {},
   "outputs": [
    {
     "name": "stdout",
     "output_type": "stream",
     "text": [
      "[['39' 'State-gov' '77516' ... '40' 'United-States' '<=50K']\n",
      " ['50' 'Self-emp-not-inc' '83311' ... '13' 'United-States' '<=50K']\n",
      " ['38' 'Private' '215646' ... '40' 'United-States' '<=50K']\n",
      " ...\n",
      " ['58' 'Private' '151910' ... '40' 'United-States' '<=50K']\n",
      " ['22' 'Private' '201490' ... '20' 'United-States' '<=50K']\n",
      " ['52' 'Self-emp-inc' '287927' ... '40' 'United-States' '>50K']]\n"
     ]
    }
   ],
   "source": [
    "import numpy as np\n",
    "import matplotlib.pyplot as plt\n",
    "from scipy import stats\n",
    "from sklearn import preprocessing\n",
    "from sklearn.svm import LinearSVC\n",
    "from sklearn.linear_model import LogisticRegression\n",
    "from sklearn.ensemble import RandomForestClassifier\n",
    "from sklearn.multiclass import OneVsOneClassifier\n",
    "from sklearn.naive_bayes import GaussianNB\n",
    "from sklearn.model_selection import train_test_split\n",
    "from sklearn.model_selection import cross_val_score\n",
    "import sklearn\n",
    "import warnings\n",
    "warnings.filterwarnings(\"ignore\")\n",
    "from sklearn.model_selection import cross_val_score\n",
    "import warnings\n",
    "warnings.filterwarnings(\"ignore\")\n",
    "\n",
    "\n",
    "# Input file containing data\n",
    "input_file = 'E:\\income_data.txt'\n",
    "\n",
    "# Read the data\n",
    "X = []\n",
    "y = []\n",
    "count_class1 = 0\n",
    "count_class2 = 0\n",
    "max_datapoints = 25000\n",
    "\n",
    "#open the file and check for the salary less than or greater than 50k\n",
    "with open(input_file, 'r') as f:\n",
    "    for line in f.readlines():\n",
    "        if count_class1 >= max_datapoints and count_class2 >= max_datapoints:\n",
    "            break\n",
    "\n",
    "        #if '?' in line:\n",
    "         #continue\n",
    "\n",
    "        data = line[:-1].split(', ')\n",
    "\n",
    "        if data[-1] == '<=50K' and count_class1 < max_datapoints:\n",
    "            X.append(data)\n",
    "            count_class1 += 1\n",
    "\n",
    "        if data[-1] == '>50K' and count_class2 < max_datapoints:\n",
    "            X.append(data)\n",
    "            count_class2 += 1\n",
    "\n",
    "# Convert to numpy array\n",
    "X = np.array(X)\n",
    "print(X)"
   ]
  },
  {
   "cell_type": "code",
   "execution_count": 31,
   "metadata": {},
   "outputs": [
    {
     "name": "stdout",
     "output_type": "stream",
     "text": [
      "list 1 [[    36      4 123011     11      9      2     10      0      4      1\n",
      "       0      0     40     39]]\n",
      "[[    39      7  77516 ...      0     40     39]\n",
      " [    50      6  83311 ...      0     13     39]\n",
      " [    38      4 215646 ...      0     40     39]\n",
      " ...\n",
      " [    58      4 151910 ...      0     40     39]\n",
      " [    22      4 201490 ...      0     20     39]\n",
      " [    52      5 287927 ...      0     40     39]] [0 0 0 ... 0 0 1]\n"
     ]
    }
   ],
   "source": [
    "label_encoder = [] \n",
    "\n",
    "#Encode string data to numeric\n",
    "X_encoded = np.empty(X.shape)\n",
    "for i,item in enumerate(X[0]):\n",
    "    if item.isdigit(): \n",
    "        X_encoded[:, i] = X[:, i]\n",
    "    elif item==\"?\":\n",
    "        X_encoded[:,i]=109 #replace ? with 109\n",
    "    else:\n",
    "        label_encoder.append(preprocessing.LabelEncoder())\n",
    "        X_encoded[:, i] = label_encoder[-1].fit_transform(X[:, i])\n",
    "\n",
    "\n",
    "    \n",
    "X = X_encoded[:, :-1].astype(int)\n",
    "m=stats.mode(X)\n",
    "l1=m[0]\n",
    "print('list 1',l1)\n",
    "y = X_encoded[:, -1].astype(int)\n",
    "print(X,y)\n",
    "\n",
    "#if a ? is found, replace it with the highest occuring value in the column\n",
    "for i,item in enumerate(X[0]):\n",
    "    if item==109:\n",
    "        item[:,i]=l1[i]\n",
    "    \n"
   ]
  },
  {
   "cell_type": "code",
   "execution_count": 11,
   "metadata": {},
   "outputs": [],
   "source": [
    "\n"
   ]
  },
  {
   "cell_type": "code",
   "execution_count": 38,
   "metadata": {
    "scrolled": true
   },
   "outputs": [
    {
     "name": "stdout",
     "output_type": "stream",
     "text": [
      "Accuracy: 78.62%\n",
      "Precision: 79.8%\n",
      "Recall: 78.62%\n",
      "F1 score: 73.67%\n"
     ]
    }
   ],
   "source": [
    "# SVM CLASSIFIER\n",
    "\n",
    "import sklearn\n",
    "classifier = OneVsOneClassifier(LinearSVC(random_state=0))\n",
    "\n",
    "# Train the classifier\n",
    "classifier.fit(X, y)\n",
    "\n",
    "# Cross validation\n",
    "X_train, X_test, y_train, y_test = train_test_split(X, y, test_size=0.3, random_state=5)\n",
    "classifier = OneVsOneClassifier(LinearSVC(random_state=0))\n",
    "classifier.fit(X_train, y_train)\n",
    "y_test_pred = classifier.predict(X_test)\n",
    "\n",
    "\n",
    "###############################################\n",
    "# Scoring functions\n",
    "\n",
    "num_folds = 3\n",
    "accuracy_values = sklearn.model_selection.cross_val_score(classifier, X, y, scoring='accuracy', cv=num_folds)\n",
    "print(\"Accuracy: \" + str(round(100*accuracy_values.mean(), 2)) + \"%\")\n",
    "\n",
    "precision_values = sklearn.model_selection.cross_val_score(classifier, X, y, scoring='precision_weighted', cv=num_folds)\n",
    "print(\"Precision: \" + str(round(100*precision_values.mean(), 2)) + \"%\")\n",
    "\n",
    "recall_values = sklearn.model_selection.cross_val_score(classifier, X, y, scoring='recall_weighted', cv=num_folds)\n",
    "print(\"Recall: \" + str(round(100*recall_values.mean(), 2)) + \"%\")\n",
    "\n",
    "# Compute the F1 score of the SVM classifier\n",
    "f1 = cross_val_score(classifier, X, y, scoring='f1_weighted', cv=3)\n",
    "print(\"F1 score: \" + str(round(100*f1.mean(), 2)) + \"%\")\n",
    "\n",
    "\n"
   ]
  },
  {
   "cell_type": "code",
   "execution_count": 37,
   "metadata": {},
   "outputs": [
    {
     "name": "stdout",
     "output_type": "stream",
     "text": [
      "Accuracy: 79.2%\n",
      "Precision: 77.32%\n",
      "Recall: 79.2%\n",
      "F1 score: 75.92%\n"
     ]
    }
   ],
   "source": [
    "#LOGISTIC REGRESSION\n",
    "\n",
    "LR=LogisticRegression(random_state=0,solver='lbfgs',multi_class='ovr').fit(X_train,y_train)\n",
    "y_test_pred=LR.predict(X_test)\n",
    "\n",
    "# Scoring functions\n",
    "\n",
    "num_folds = 3\n",
    "accuracy_values = sklearn.model_selection.cross_val_score(LR, X, y, scoring='accuracy', cv=num_folds)\n",
    "print(\"Accuracy: \" + str(round(100*accuracy_values.mean(), 2)) + \"%\")\n",
    "\n",
    "precision_values = sklearn.model_selection.cross_val_score(LR, X, y, scoring='precision_weighted', cv=num_folds)\n",
    "print(\"Precision: \" + str(round(100*precision_values.mean(), 2)) + \"%\")\n",
    "\n",
    "recall_values = sklearn.model_selection.cross_val_score(LR, X, y, scoring='recall_weighted', cv=num_folds)\n",
    "print(\"Recall: \" + str(round(100*recall_values.mean(), 2)) + \"%\")\n",
    "\n",
    "# Compute the F1 score of the SVM classifier\n",
    "f1 = cross_val_score(LR, X, y, scoring='f1_weighted', cv=3)\n",
    "print(\"F1 score: \" + str(round(100*f1.mean(), 2)) + \"%\")\n",
    "\n",
    "\n"
   ]
  },
  {
   "cell_type": "code",
   "execution_count": 36,
   "metadata": {},
   "outputs": [
    {
     "name": "stdout",
     "output_type": "stream",
     "text": [
      "Accuracy: 84.98%\n",
      "Precision: 84.29%\n",
      "Recall: 84.98%\n",
      "F1 score: 84.36%\n"
     ]
    }
   ],
   "source": [
    "#RANDOM FOREST CLASSIFIER\n",
    "\n",
    "RF=RandomForestClassifier(random_state=0)\n",
    "RF.fit(X_train,y_train)\n",
    "y_test_pred=RF.predict(X_test)\n",
    "\n",
    "# Scoring functions\n",
    "\n",
    "num_folds = 3\n",
    "accuracy_values = sklearn.model_selection.cross_val_score(RF, X, y, scoring='accuracy', cv=num_folds)\n",
    "print(\"Accuracy: \" + str(round(100*accuracy_values.mean(), 2)) + \"%\")\n",
    "\n",
    "precision_values = sklearn.model_selection.cross_val_score(RF, X, y, scoring='precision_weighted', cv=num_folds)\n",
    "print(\"Precision: \" + str(round(100*precision_values.mean(), 2)) + \"%\")\n",
    "\n",
    "recall_values = sklearn.model_selection.cross_val_score(RF, X, y, scoring='recall_weighted', cv=num_folds)\n",
    "print(\"Recall: \" + str(round(100*recall_values.mean(), 2)) + \"%\")\n",
    "\n",
    "\n",
    "f1 = cross_val_score(RF, X, y, scoring='f1_weighted', cv=3)\n",
    "print(\"F1 score: \" + str(round(100*f1.mean(), 2)) + \"%\")"
   ]
  },
  {
   "cell_type": "code",
   "execution_count": 35,
   "metadata": {},
   "outputs": [
    {
     "name": "stdout",
     "output_type": "stream",
     "text": [
      "Accuracy: 79.52%\n",
      "Precision: 77.57%\n",
      "Recall: 79.52%\n",
      "F1 score: 76.63%\n"
     ]
    }
   ],
   "source": [
    "#NAIVE BAYES CLASSIFIER\n",
    "\n",
    "class2=GaussianNB()\n",
    "class2.fit(X_train,y_train)\n",
    "y_test_pred=class2.predict(X_test)\n",
    "\n",
    "num_folds = 3\n",
    "accuracy_values = sklearn.model_selection.cross_val_score(class2, X, y, scoring='accuracy', cv=num_folds)\n",
    "print(\"Accuracy: \" + str(round(100*accuracy_values.mean(), 2)) + \"%\")\n",
    "\n",
    "precision_values = sklearn.model_selection.cross_val_score(class2, X, y, scoring='precision_weighted', cv=num_folds)\n",
    "print(\"Precision: \" + str(round(100*precision_values.mean(), 2)) + \"%\")\n",
    "\n",
    "recall_values = sklearn.model_selection.cross_val_score(class2, X, y, scoring='recall_weighted', cv=num_folds)\n",
    "print(\"Recall: \" + str(round(100*recall_values.mean(), 2)) + \"%\")\n",
    "\n",
    "\n",
    "f1 = cross_val_score(class2, X, y, scoring='f1_weighted', cv=3)\n",
    "print(\"F1 score: \" + str(round(100*f1.mean(), 2)) + \"%\")"
   ]
  },
  {
   "cell_type": "code",
   "execution_count": null,
   "metadata": {},
   "outputs": [],
   "source": []
  }
 ],
 "metadata": {
  "kernelspec": {
   "display_name": "Python 3",
   "language": "python",
   "name": "python3"
  },
  "language_info": {
   "codemirror_mode": {
    "name": "ipython",
    "version": 3
   },
   "file_extension": ".py",
   "mimetype": "text/x-python",
   "name": "python",
   "nbconvert_exporter": "python",
   "pygments_lexer": "ipython3",
   "version": "3.7.1"
  }
 },
 "nbformat": 4,
 "nbformat_minor": 2
}
