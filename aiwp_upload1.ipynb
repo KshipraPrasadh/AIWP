{
 "cells": [
  {
   "cell_type": "code",
   "execution_count": 18,
   "metadata": {},
   "outputs": [
    {
     "data": {
      "text/html": [
       "<div>\n",
       "<style scoped>\n",
       "    .dataframe tbody tr th:only-of-type {\n",
       "        vertical-align: middle;\n",
       "    }\n",
       "\n",
       "    .dataframe tbody tr th {\n",
       "        vertical-align: top;\n",
       "    }\n",
       "\n",
       "    .dataframe thead th {\n",
       "        text-align: right;\n",
       "    }\n",
       "</style>\n",
       "<table border=\"1\" class=\"dataframe\">\n",
       "  <thead>\n",
       "    <tr style=\"text-align: right;\">\n",
       "      <th></th>\n",
       "      <th>YearsExperience</th>\n",
       "      <th>Salary</th>\n",
       "    </tr>\n",
       "  </thead>\n",
       "  <tbody>\n",
       "    <tr>\n",
       "      <th>0</th>\n",
       "      <td>1.1</td>\n",
       "      <td>39343.0</td>\n",
       "    </tr>\n",
       "    <tr>\n",
       "      <th>1</th>\n",
       "      <td>1.3</td>\n",
       "      <td>46205.0</td>\n",
       "    </tr>\n",
       "    <tr>\n",
       "      <th>2</th>\n",
       "      <td>1.5</td>\n",
       "      <td>37731.0</td>\n",
       "    </tr>\n",
       "    <tr>\n",
       "      <th>3</th>\n",
       "      <td>2.0</td>\n",
       "      <td>43525.0</td>\n",
       "    </tr>\n",
       "    <tr>\n",
       "      <th>4</th>\n",
       "      <td>2.2</td>\n",
       "      <td>39891.0</td>\n",
       "    </tr>\n",
       "  </tbody>\n",
       "</table>\n",
       "</div>"
      ],
      "text/plain": [
       "   YearsExperience   Salary\n",
       "0              1.1  39343.0\n",
       "1              1.3  46205.0\n",
       "2              1.5  37731.0\n",
       "3              2.0  43525.0\n",
       "4              2.2  39891.0"
      ]
     },
     "execution_count": 18,
     "metadata": {},
     "output_type": "execute_result"
    }
   ],
   "source": [
    "#import the necessary libraries\n",
    "import numpy as np\n",
    "import pandas as pd\n",
    "\n",
    "#import the model\n",
    "from sklearn.linear_model import LinearRegression\n",
    "from sklearn.model_selection import train_test_split\n",
    "\n",
    "# import module to calculate model perfomance metrics\n",
    "from sklearn import metrics\n",
    "import matplotlib.pyplot as plt\n",
    "%matplotlib inline\n",
    "\n",
    "# # data_link = \"https://www.kaggle.com/karthickveerakumar/salary-data-simple-linear-regression/downloads/salary-data-simple-linear-regression.zip/1\"\n",
    "data = pd.read_csv(\"E:\\Salary_Data.csv\")\n",
    "\n",
    "#check if the data has been imported\n",
    "data.head()"
   ]
  },
  {
   "cell_type": "code",
   "execution_count": 52,
   "metadata": {},
   "outputs": [
    {
     "data": {
      "text/plain": [
       "Text(0, 0.5, 'Salary')"
      ]
     },
     "execution_count": 52,
     "metadata": {},
     "output_type": "execute_result"
    },
    {
     "data": {
      "image/png": "[encoded data removed]",
      "text/plain": [
       "<Figure size 432x288 with 1 Axes>"
      ]
     },
     "metadata": {
      "needs_background": "light"
     },
     "output_type": "display_data"
    }
   ],
   "source": [
    "\n",
    "#plot the data\n",
    "X = data[['YearsExperience']]\n",
    "y = data.Salary\n",
    "plt.scatter(X,y)\n",
    "plt.xlabel(\"Years of Experience\")\n",
    "plt.ylabel(\"Salary\")\n",
    "\n"
   ]
  },
  {
   "cell_type": "code",
   "execution_count": 45,
   "metadata": {
    "scrolled": true
   },
   "outputs": [],
   "source": [
    "#Custom Functions to calculate the mse and rmse\n",
    "def mean_square(y_test,y_pred):\n",
    "    ms=np.mean((y_test-y_pred)**2)\n",
    "    return ms\n",
    "   \n",
    "def root_mean_square(y_test,y_pred):\n",
    "    rms=np.sqrt(np.mean((y_test-y_pred)**2))\n",
    "    return rms\n"
   ]
  },
  {
   "cell_type": "code",
   "execution_count": 51,
   "metadata": {
    "scrolled": true
   },
   "outputs": [
    {
     "name": "stdout",
     "output_type": "stream",
     "text": [
      "Mean Square error (Inbuilt function) :  51792789.27278863\n",
      "Root mean square error (Inbuilt function) :  7196.720730498622\n",
      "Mean Square error (Custom Function) :  51792789.27278862\n",
      "Root mean square error (Custom Function) :  7196.720730498622\n"
     ]
    },
    {
     "data": {
      "text/plain": [
       "Text(0, 0.5, 'Salary')"
      ]
     },
     "execution_count": 51,
     "metadata": {},
     "output_type": "execute_result"
    },
    {
     "data": {
      "image/png": "[encoded data removed]",
      "text/plain": [
       "<Figure size 432x288 with 1 Axes>"
      ]
     },
     "metadata": {
      "needs_background": "light"
     },
     "output_type": "display_data"
    }
   ],
   "source": [
    "X_train, X_test, y_train, y_test = train_test_split(X, y, random_state=1,test_size=0.5)\n",
    "linreg = LinearRegression()\n",
    "linreg.fit(X_train, y_train)\n",
    "y_pred = linreg.predict(X_test)\n",
    "print(\"Mean Square error (Inbuilt function) : \", metrics.mean_squared_error(y_test, y_pred))\n",
    "print(\"Root mean square error (Inbuilt function) : \", np.sqrt(metrics.mean_squared_error(y_test,y_pred)))\n",
    "print(\"Mean Square error (Custom Function) : \", mean_square(y_test, y_pred))\n",
    "print(\"Root mean square error (Custom Function) : \", root_mean_square(y_test,y_pred))\n",
    "plt.scatter(X_train,y_train,color= 'blue')\n",
    "plt.plot(X_train,linreg.predict(X_train),color='red')\n",
    "plt.xlabel(\"Years of Experience\")\n",
    "plt.ylabel(\"Salary\")"
   ]
  },
  {
   "cell_type": "code",
   "execution_count": 53,
   "metadata": {},
   "outputs": [
    {
     "name": "stdout",
     "output_type": "stream",
     "text": [
      "Mean Square error (Inbuilt function) :  39139215.99958858\n",
      "Root mean square error (Inbuilt function) :  6256.134269625979\n",
      "Mean Square error (Custom Function) :  39139215.99958858\n",
      "Root mean square error (Custom Function) :  6256.134269625979\n"
     ]
    },
    {
     "data": {
      "text/plain": [
       "Text(0, 0.5, 'Salary')"
      ]
     },
     "execution_count": 53,
     "metadata": {},
     "output_type": "execute_result"
    },
    {
     "data": {
      "image/png": "[encoded data removed]",
      "text/plain": [
       "<Figure size 432x288 with 1 Axes>"
      ]
     },
     "metadata": {
      "needs_background": "light"
     },
     "output_type": "display_data"
    }
   ],
   "source": [
    "X_train, X_test, y_train, y_test = train_test_split(X, y, random_state=1,test_size=0.3)\n",
    "linreg = LinearRegression()\n",
    "linreg.fit(X_train, y_train)\n",
    "y_pred = linreg.predict(X_test)\n",
    "print(\"Mean Square error (Inbuilt function) : \", metrics.mean_squared_error(y_test, y_pred))\n",
    "print(\"Root mean square error (Inbuilt function) : \", np.sqrt(metrics.mean_squared_error(y_test,y_pred)))\n",
    "print(\"Mean Square error (Custom Function) : \", mean_square(y_test, y_pred))\n",
    "print(\"Root mean square error (Custom Function) : \", root_mean_square(y_test,y_pred))\n",
    "plt.scatter(X_train,y_train,color= 'blue')\n",
    "plt.plot(X_train,linreg.predict(X_train),color='red')\n",
    "plt.xlabel(\"Years of Experience\")\n",
    "plt.ylabel(\"Salary\")"
   ]
  },
  {
   "cell_type": "code",
   "execution_count": 54,
   "metadata": {},
   "outputs": [
    {
     "name": "stdout",
     "output_type": "stream",
     "text": [
      "Mean Square error (Inbuilt function) :  51338023.49224842\n",
      "Root mean square error (Inbuilt function) :  7165.055721503387\n",
      "Mean Square error (Custom Function) :  51338023.49224842\n",
      "Root mean square error (Custom Function) :  7165.055721503387\n"
     ]
    },
    {
     "data": {
      "text/plain": [
       "Text(0, 0.5, 'Salary')"
      ]
     },
     "execution_count": 54,
     "metadata": {},
     "output_type": "execute_result"
    },
    {
     "data": {
      "image/png": "[encoded data removed]",
      "text/plain": [
       "<Figure size 432x288 with 1 Axes>"
      ]
     },
     "metadata": {
      "needs_background": "light"
     },
     "output_type": "display_data"
    }
   ],
   "source": [
    "X_train, X_test, y_train, y_test = train_test_split(X, y, random_state=1,test_size=0.2)\n",
    "linreg = LinearRegression()\n",
    "linreg.fit(X_train, y_train)\n",
    "y_pred = linreg.predict(X_test)\n",
    "print(\"Mean Square error (Inbuilt function) : \", metrics.mean_squared_error(y_test, y_pred))\n",
    "print(\"Root mean square error (Inbuilt function) : \", np.sqrt(metrics.mean_squared_error(y_test,y_pred)))\n",
    "print(\"Mean Square error (Custom Function) : \", mean_square(y_test, y_pred))\n",
    "print(\"Root mean square error (Custom Function) : \", root_mean_square(y_test,y_pred))\n",
    "plt.scatter(X_train,y_train,color= 'blue')\n",
    "plt.plot(X_train,linreg.predict(X_train),color='red')\n",
    "plt.xlabel(\"Years of Experience\")\n",
    "plt.ylabel(\"Salary\")"
   ]
  },
  {
   "cell_type": "code",
   "execution_count": null,
   "metadata": {},
   "outputs": [],
   "source": []
  }
 ],
 "metadata": {
  "kernelspec": {
   "display_name": "Python 3",
   "language": "python",
   "name": "python3"
  },
  "language_info": {
   "codemirror_mode": {
    "name": "ipython",
    "version": 3
   },
   "file_extension": ".py",
   "mimetype": "text/x-python",
   "name": "python",
   "nbconvert_exporter": "python",
   "pygments_lexer": "ipython3",
   "version": "3.7.1"
  }
 },
 "nbformat": 4,
 "nbformat_minor": 2
}
